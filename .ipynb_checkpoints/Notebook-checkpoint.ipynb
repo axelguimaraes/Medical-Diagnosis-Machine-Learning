{
 "cells": [
  {
   "cell_type": "code",
   "id": "initial_id",
   "metadata": {
    "collapsed": true,
    "ExecuteTime": {
     "end_time": "2024-07-07T15:03:50.886315Z",
     "start_time": "2024-07-07T15:03:50.765354Z"
    }
   },
   "source": [
    "# Import necessary libraries\n",
    "import pandas as pd\n",
    "from sklearn.model_selection import train_test_split\n",
    "from sklearn.preprocessing import StandardScaler\n",
    "from sklearn.tree import DecisionTreeClassifier\n",
    "from sklearn.metrics import accuracy_score\n",
    "from sklearn.model_selection import cross_val_score, GridSearchCV\n",
    "from imblearn.over_sampling import SMOTE\n",
    "\n",
    "# Load your dataset\n",
    "df = pd.read_csv('./data/dataset.csv')\n",
    "\n",
    "# Data Preparation\n",
    "df['Fever'] = df['Fever'].map({'Yes': 1, 'No': 0})\n",
    "df['Cough'] = df['Cough'].map({'Yes': 1, 'No': 0})\n",
    "df['Fatigue'] = df['Fatigue'].map({'Yes': 1, 'No': 0})\n",
    "df['Difficulty Breathing'] = df['Difficulty Breathing'].map({'Yes': 1, 'No': 0})\n",
    "df['Gender'] = df['Gender'].map({'Male': 1, 'Female': 0})\n",
    "df['Blood Pressure'] = df['Blood Pressure'].map({'Low': 0, 'Normal': 1, 'High': 2})\n",
    "df['Cholesterol Level'] = df['Cholesterol Level'].map({'Low': 0, 'Normal': 1, 'High': 2})\n",
    "df['Outcome Variable'] = df['Outcome Variable'].map({'Positive': 1, 'Negative': 0})\n",
    "\n",
    "# Split data into features (X) and target (y)\n",
    "X = df.drop(columns=['Disease'])  # Features\n",
    "y = df['Outcome Variable']  # Target\n",
    "\n",
    "# Split into training and test sets\n",
    "X_train, X_test, y_train, y_test = train_test_split(X, y, test_size=0.2, random_state=42)\n",
    "\n",
    "# Handle class imbalance with SMOTE\n",
    "smote = SMOTE(random_state=42)\n",
    "X_train_resampled, y_train_resampled = smote.fit_resample(X_train, y_train)\n",
    "\n",
    "# Normalization\n",
    "scaler = StandardScaler()\n",
    "X_train_scaled = scaler.fit_transform(X_train_resampled)\n",
    "X_test_scaled = scaler.transform(X_test)\n",
    "\n",
    "# Model Training with Decision Tree Classifier\n",
    "clf = DecisionTreeClassifier(random_state=42, max_depth=3, min_samples_split=2)\n",
    "clf.fit(X_train_scaled, y_train_resampled)\n",
    "y_pred_clf = clf.predict(X_test_scaled)\n",
    "accuracy = accuracy_score(y_test, y_pred_clf)\n",
    "print(f'Classification Model Accuracy: {accuracy}')\n",
    "\n",
    "cv_scores = cross_val_score(clf, X, y, cv=5)\n",
    "print(f'Cross-validation scores: {cv_scores}')\n",
    "\n",
    "param_grid = {'max_depth': [3, 5, 10, None], 'min_samples_split': [2, 5, 10]}\n",
    "grid_search = GridSearchCV(estimator=clf, param_grid=param_grid, cv=3)\n",
    "grid_search.fit(X_train_scaled, y_train_resampled)\n",
    "print(f'Best parameters found: {grid_search.best_params_}')\n"
   ],
   "outputs": [
    {
     "name": "stdout",
     "output_type": "stream",
     "text": [
      "Classification Model Accuracy: 1.0\n",
      "Cross-validation scores: [1. 1. 1. 1. 1.]\n",
      "Best parameters found: {'max_depth': 3, 'min_samples_split': 2}\n"
     ]
    }
   ],
   "execution_count": 10
  },
  {
   "metadata": {
    "ExecuteTime": {
     "end_time": "2024-07-07T15:03:43.001473Z",
     "start_time": "2024-07-07T15:03:42.998901Z"
    }
   },
   "cell_type": "code",
   "source": "",
   "id": "9cc5bc95f9c58469",
   "outputs": [],
   "execution_count": 9
  },
  {
   "metadata": {
    "ExecuteTime": {
     "end_time": "2024-07-07T15:03:43.948369Z",
     "start_time": "2024-07-07T15:03:43.945311Z"
    }
   },
   "cell_type": "code",
   "source": "",
   "id": "e0126b408258b100",
   "outputs": [],
   "execution_count": 9
  },
  {
   "metadata": {},
   "cell_type": "code",
   "outputs": [],
   "execution_count": null,
   "source": "",
   "id": "843970c9df379eec"
  }
 ],
 "metadata": {
  "kernelspec": {
   "display_name": "Python 3",
   "language": "python",
   "name": "python3"
  },
  "language_info": {
   "codemirror_mode": {
    "name": "ipython",
    "version": 2
   },
   "file_extension": ".py",
   "mimetype": "text/x-python",
   "name": "python",
   "nbconvert_exporter": "python",
   "pygments_lexer": "ipython2",
   "version": "2.7.6"
  }
 },
 "nbformat": 4,
 "nbformat_minor": 5
}
